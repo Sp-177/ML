{
  "nbformat": 4,
  "nbformat_minor": 0,
  "metadata": {
    "colab": {
      "provenance": []
    },
    "kernelspec": {
      "name": "python3",
      "display_name": "Python 3"
    },
    "language_info": {
      "name": "python"
    }
  },
  "cells": [
    {
      "cell_type": "code",
      "execution_count": 9,
      "metadata": {
        "id": "imqEU8_UXeFu"
      },
      "outputs": [],
      "source": [
        "#RIDGE REGRESSION\n",
        "\n",
        "\n",
        "## Overfitting -> Low Bias , High Var\n",
        "# 100% Accuracy in Train , and low in Test\n",
        "# Cost Func ->  mean sq error -> 0 due to overfitting no error\n",
        "# !!! Problems\n",
        "\n",
        "#Solution\n",
        "# # L2 Regularization , Reduce Overfitting\n",
        "#Hyper Parameter in cost func -> overfitting not happens\n",
        "# Hyperparameter -> Lambda * SUM(slope^2)\n",
        "# Relation Lambda is inversely prop to slope"
      ]
    },
    {
      "cell_type": "code",
      "source": [
        "# Lasso Regression\n",
        "\n",
        "\n",
        "\n",
        "# L1 Regularization\n",
        "# Feature Selection\n",
        "# Hyper Parameter -> lambda* SUM(abs(slope))\n",
        "\n",
        "#used in cost function,\n",
        "# feautre with less corr , coeff , are reduced to zero to reduce complexity of model\n"
      ],
      "metadata": {
        "id": "O8iHWEadXtS4"
      },
      "execution_count": 10,
      "outputs": []
    },
    {
      "cell_type": "code",
      "source": [
        "# Elastic Net\n",
        "\n",
        "\n",
        "\n",
        "# combine of both\n",
        "#hyper para -> cost_funcn + L1*sum((slope^2)) + L2*sum(abs(slope))"
      ],
      "metadata": {
        "id": "zsDOZ_uYZ0fG"
      },
      "execution_count": 11,
      "outputs": []
    },
    {
      "cell_type": "code",
      "source": [
        "# Cross Validation\n",
        "\n",
        "# 1. LOOCV (Leave one out CV) total test =500 ,  -> train in 499 and 1 validate  for 500 iteration\n",
        "\n",
        "\n",
        "# LPOCV (leave p out CV)\n",
        "\n",
        "# K-Fold CV  total =500 , k=5 , first 100 validate 400 test , slide window for 5 iteration\n",
        "\n",
        "# Stratified K fold CV , (in k-fold, first 100 , slide window could be of same cluster ,)-> equal proption , ex equal number of zero n ones\n",
        "\n",
        "# Time Series CV  -> train n test divided into days , rating of any product\n"
      ],
      "metadata": {
        "id": "gkik-9f2axPY"
      },
      "execution_count": 14,
      "outputs": []
    },
    {
      "cell_type": "code",
      "source": [],
      "metadata": {
        "id": "E0UF5lCPjjk5"
      },
      "execution_count": null,
      "outputs": []
    }
  ]
}